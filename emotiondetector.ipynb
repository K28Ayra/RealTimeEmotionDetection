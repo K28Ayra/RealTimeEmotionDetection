{
 "cells": [
  {
   "cell_type": "code",
   "execution_count": 3,
   "metadata": {
    "id": "5Us2XFaIDJ_K"
   },
   "outputs": [],
   "source": [
    "import pandas as pd\n",
    "import numpy as np\n",
    "import os\n",
    "from matplotlib import pyplot as plt\n"
   ]
  },
  {
   "cell_type": "markdown",
   "metadata": {
    "id": "SyBGvMAl9IAd"
   },
   "source": [
    "Import important and deep learning libraries"
   ]
  },
  {
   "cell_type": "code",
   "execution_count": 4,
   "metadata": {},
   "outputs": [
    {
     "name": "stdout",
     "output_type": "stream",
     "text": [
      "Wed Mar 20 23:06:16 2024       \n",
      "+---------------------------------------------------------------------------------------+\n",
      "| NVIDIA-SMI 546.26                 Driver Version: 546.26       CUDA Version: 12.3     |\n",
      "|-----------------------------------------+----------------------+----------------------+\n",
      "| GPU  Name                     TCC/WDDM  | Bus-Id        Disp.A | Volatile Uncorr. ECC |\n",
      "| Fan  Temp   Perf          Pwr:Usage/Cap |         Memory-Usage | GPU-Util  Compute M. |\n",
      "|                                         |                      |               MIG M. |\n",
      "|=========================================+======================+======================|\n",
      "|   0  NVIDIA GeForce MX350         WDDM  | 00000000:01:00.0 Off |                  N/A |\n",
      "| N/A   42C    P0              N/A /  20W |      0MiB /  2048MiB |      0%      Default |\n",
      "|                                         |                      |                  N/A |\n",
      "+-----------------------------------------+----------------------+----------------------+\n",
      "                                                                                         \n",
      "+---------------------------------------------------------------------------------------+\n",
      "| Processes:                                                                            |\n",
      "|  GPU   GI   CI        PID   Type   Process name                            GPU Memory |\n",
      "|        ID   ID                                                             Usage      |\n",
      "|=======================================================================================|\n",
      "|  No running processes found                                                           |\n",
      "+---------------------------------------------------------------------------------------+\n"
     ]
    }
   ],
   "source": [
    "!nvidia-smi"
   ]
  },
  {
   "cell_type": "code",
   "execution_count": 5,
   "metadata": {
    "id": "kGmR6lvJ9Oo7"
   },
   "outputs": [
    {
     "name": "stdout",
     "output_type": "stream",
     "text": [
      "WARNING:tensorflow:From C:\\Users\\HP\\AppData\\Local\\Programs\\Python\\Python311\\Lib\\site-packages\\keras\\src\\losses.py:2976: The name tf.losses.sparse_softmax_cross_entropy is deprecated. Please use tf.compat.v1.losses.sparse_softmax_cross_entropy instead.\n",
      "\n"
     ]
    }
   ],
   "source": [
    "#from keras.preprocessing.image import Load_img\n",
    "from keras.preprocessing.image import ImageDataGenerator\n",
    "from keras.models import Sequential\n",
    "from keras.layers import Dense, Flatten, Conv2D, MaxPooling2D, Dropout\n"
   ]
  },
  {
   "cell_type": "markdown",
   "metadata": {
    "id": "7rpKvMh-KI_W"
   },
   "source": [
    "Initialize data genrators with rescalingg\n",
    "\n",
    "---\n",
    "\n"
   ]
  },
  {
   "cell_type": "code",
   "execution_count": 6,
   "metadata": {
    "id": "DWhxBeF_9Owq"
   },
   "outputs": [],
   "source": [
    "train_data_gen = ImageDataGenerator(rescale = 1.0/255.0)\n",
    "test_data_gen = ImageDataGenerator(rescale = 1.0/255.0)"
   ]
  },
  {
   "cell_type": "markdown",
   "metadata": {
    "id": "YO9FMzQ7K5Lv"
   },
   "source": [
    "Preprocessing all test and train images\n"
   ]
  },
  {
   "cell_type": "code",
   "execution_count": 8,
   "metadata": {
    "colab": {
     "base_uri": "https://localhost:8080/"
    },
    "id": "isSOeGSu9O2A",
    "outputId": "0f8e4115-f323-44fe-9b3c-fd35dcf865d9"
   },
   "outputs": [
    {
     "name": "stdout",
     "output_type": "stream",
     "text": [
      "Found 28709 images belonging to 7 classes.\n",
      "Found 7178 images belonging to 7 classes.\n"
     ]
    }
   ],
   "source": [
    "train_generator = train_data_gen.flow_from_directory(\n",
    "  'dataset/train',\n",
    "  target_size= (48,48),\n",
    "  batch_size = 64,\n",
    "  color_mode = \"grayscale\",\n",
    "  class_mode = 'categorical'\n",
    ")\n",
    "\n",
    "##flow_from_directory helps to flow thru directories and preprocess the data\n",
    "\n",
    "test_generator = test_data_gen.flow_from_directory(\n",
    "  'dataset/test',\n",
    "  target_size= (48,48),\n",
    "  batch_size = 64,\n",
    "  color_mode = \"grayscale\",\n",
    "  class_mode = 'categorical'\n",
    ")"
   ]
  },
  {
   "cell_type": "code",
   "execution_count": null,
   "metadata": {
    "id": "ccI5Zupm9O4p"
   },
   "outputs": [],
   "source": []
  },
  {
   "cell_type": "code",
   "execution_count": 9,
   "metadata": {
    "id": "03kQvFnR9O7g"
   },
   "outputs": [
    {
     "name": "stdout",
     "output_type": "stream",
     "text": [
      "WARNING:tensorflow:From C:\\Users\\HP\\AppData\\Local\\Programs\\Python\\Python311\\Lib\\site-packages\\keras\\src\\backend.py:873: The name tf.get_default_graph is deprecated. Please use tf.compat.v1.get_default_graph instead.\n",
      "\n",
      "WARNING:tensorflow:From C:\\Users\\HP\\AppData\\Local\\Programs\\Python\\Python311\\Lib\\site-packages\\keras\\src\\layers\\pooling\\max_pooling2d.py:161: The name tf.nn.max_pool is deprecated. Please use tf.nn.max_pool2d instead.\n",
      "\n"
     ]
    }
   ],
   "source": [
    "model = Sequential()\n",
    "\n",
    "\n",
    "model.add(Conv2D(32, kernel_size=(3,3), activation = 'relu', input_shape = (48,48,1)))\n",
    "model.add(Conv2D(64, kernel_size=(3,3), activation = 'relu'))\n",
    "model.add(MaxPooling2D(pool_size =(2,2)))\n",
    "model.add(Dropout(0.25))\n",
    "\n",
    "\n",
    "model.add(Conv2D(128, kernel_size=(3,3), activation = 'relu'))\n",
    "model.add(MaxPooling2D(pool_size =(2,2)))\n",
    "model.add(Conv2D(128, kernel_size=(3,3), activation = 'relu'))\n",
    "model.add(MaxPooling2D(pool_size =(2,2)))\n",
    "model.add(Dropout(0.25))\n",
    "\n",
    "model.add(Flatten())\n",
    "model.add(Dense(128, activation ='relu'))\n",
    "model.add(Dropout(0.5))\n",
    "model.add(Dense(7, activation ='softmax'))  #since we have seven classes\n"
   ]
  },
  {
   "cell_type": "code",
   "execution_count": 10,
   "metadata": {
    "colab": {
     "base_uri": "https://localhost:8080/"
    },
    "id": "1CBpdweX9O_E",
    "outputId": "4d1f9008-cd4c-4c6f-c489-c180fba112b9"
   },
   "outputs": [
    {
     "name": "stdout",
     "output_type": "stream",
     "text": [
      "Model: \"sequential\"\n",
      "_________________________________________________________________\n",
      " Layer (type)                Output Shape              Param #   \n",
      "=================================================================\n",
      " conv2d (Conv2D)             (None, 46, 46, 32)        320       \n",
      "                                                                 \n",
      " conv2d_1 (Conv2D)           (None, 44, 44, 64)        18496     \n",
      "                                                                 \n",
      " max_pooling2d (MaxPooling2  (None, 22, 22, 64)        0         \n",
      " D)                                                              \n",
      "                                                                 \n",
      " dropout (Dropout)           (None, 22, 22, 64)        0         \n",
      "                                                                 \n",
      " conv2d_2 (Conv2D)           (None, 20, 20, 128)       73856     \n",
      "                                                                 \n",
      " max_pooling2d_1 (MaxPoolin  (None, 10, 10, 128)       0         \n",
      " g2D)                                                            \n",
      "                                                                 \n",
      " conv2d_3 (Conv2D)           (None, 8, 8, 128)         147584    \n",
      "                                                                 \n",
      " max_pooling2d_2 (MaxPoolin  (None, 4, 4, 128)         0         \n",
      " g2D)                                                            \n",
      "                                                                 \n",
      " dropout_1 (Dropout)         (None, 4, 4, 128)         0         \n",
      "                                                                 \n",
      " flatten (Flatten)           (None, 2048)              0         \n",
      "                                                                 \n",
      " dense (Dense)               (None, 128)               262272    \n",
      "                                                                 \n",
      " dropout_2 (Dropout)         (None, 128)               0         \n",
      "                                                                 \n",
      " dense_1 (Dense)             (None, 7)                 903       \n",
      "                                                                 \n",
      "=================================================================\n",
      "Total params: 503431 (1.92 MB)\n",
      "Trainable params: 503431 (1.92 MB)\n",
      "Non-trainable params: 0 (0.00 Byte)\n",
      "_________________________________________________________________\n"
     ]
    }
   ],
   "source": [
    "model.summary()"
   ]
  },
  {
   "cell_type": "markdown",
   "metadata": {
    "id": "Zj4A_FzjP4Dr"
   },
   "source": [
    "Now we compile the model"
   ]
  },
  {
   "cell_type": "code",
   "execution_count": 11,
   "metadata": {
    "id": "dzVR05roP1R_"
   },
   "outputs": [],
   "source": [
    "from keras.optimizers import Adam\n",
    "model.compile(loss = 'categorical_crossentropy', optimizer=Adam(learning_rate=0.0001), metrics =['accuracy'])"
   ]
  },
  {
   "cell_type": "markdown",
   "metadata": {
    "id": "NGl-WWsTRcsv"
   },
   "source": [
    "TRINING THE MODEL"
   ]
  },
  {
   "cell_type": "markdown",
   "metadata": {
    "id": "ZTlwVDHfgayT"
   },
   "source": [
    "Save model in json file"
   ]
  },
  {
   "cell_type": "code",
   "execution_count": 12,
   "metadata": {
    "colab": {
     "base_uri": "https://localhost:8080/"
    },
    "id": "VeqY7xewhYQI",
    "outputId": "117193b5-7c2f-4b06-aecd-6eca9b05a7f7"
   },
   "outputs": [
    {
     "name": "stderr",
     "output_type": "stream",
     "text": [
      "C:\\Users\\HP\\AppData\\Local\\Temp\\ipykernel_1356\\2437799723.py:4: UserWarning: `Model.fit_generator` is deprecated and will be removed in a future version. Please use `Model.fit`, which supports generators.\n",
      "  history = model.fit_generator(train_generator,\n"
     ]
    },
    {
     "name": "stdout",
     "output_type": "stream",
     "text": [
      "Epoch 1/50\n",
      "WARNING:tensorflow:From C:\\Users\\HP\\AppData\\Local\\Programs\\Python\\Python311\\Lib\\site-packages\\keras\\src\\utils\\tf_utils.py:492: The name tf.ragged.RaggedTensorValue is deprecated. Please use tf.compat.v1.ragged.RaggedTensorValue instead.\n",
      "\n",
      "WARNING:tensorflow:From C:\\Users\\HP\\AppData\\Local\\Programs\\Python\\Python311\\Lib\\site-packages\\keras\\src\\engine\\base_layer_utils.py:384: The name tf.executing_eagerly_outside_functions is deprecated. Please use tf.compat.v1.executing_eagerly_outside_functions instead.\n",
      "\n",
      "448/448 [==============================] - 83s 180ms/step - loss: 1.8340 - accuracy: 0.2416 - val_loss: 1.8125 - val_accuracy: 0.2508\n",
      "Epoch 2/50\n",
      "448/448 [==============================] - 88s 196ms/step - loss: 1.7441 - accuracy: 0.2975 - val_loss: 1.6352 - val_accuracy: 0.3686\n",
      "Epoch 3/50\n",
      "448/448 [==============================] - 74s 166ms/step - loss: 1.6372 - accuracy: 0.3615 - val_loss: 1.5541 - val_accuracy: 0.4099\n",
      "Epoch 4/50\n",
      "448/448 [==============================] - 74s 164ms/step - loss: 1.5720 - accuracy: 0.3916 - val_loss: 1.5207 - val_accuracy: 0.4275\n",
      "Epoch 5/50\n",
      "448/448 [==============================] - 2107s 5s/step - loss: 1.5214 - accuracy: 0.4175 - val_loss: 1.4364 - val_accuracy: 0.4561\n",
      "Epoch 6/50\n",
      "448/448 [==============================] - 107s 239ms/step - loss: 1.4775 - accuracy: 0.4347 - val_loss: 1.4090 - val_accuracy: 0.4767\n",
      "Epoch 7/50\n",
      "448/448 [==============================] - 107s 239ms/step - loss: 1.4343 - accuracy: 0.4530 - val_loss: 1.3576 - val_accuracy: 0.4881\n",
      "Epoch 8/50\n",
      "448/448 [==============================] - 106s 237ms/step - loss: 1.3991 - accuracy: 0.4683 - val_loss: 1.3510 - val_accuracy: 0.4996\n",
      "Epoch 9/50\n",
      "448/448 [==============================] - 105s 235ms/step - loss: 1.3683 - accuracy: 0.4831 - val_loss: 1.3160 - val_accuracy: 0.5086\n",
      "Epoch 10/50\n",
      "448/448 [==============================] - 205s 458ms/step - loss: 1.3396 - accuracy: 0.4916 - val_loss: 1.2786 - val_accuracy: 0.5177\n",
      "Epoch 11/50\n",
      "448/448 [==============================] - 107s 239ms/step - loss: 1.3182 - accuracy: 0.5017 - val_loss: 1.2652 - val_accuracy: 0.5275\n",
      "Epoch 12/50\n",
      "448/448 [==============================] - 108s 241ms/step - loss: 1.2959 - accuracy: 0.5102 - val_loss: 1.2453 - val_accuracy: 0.5300\n",
      "Epoch 13/50\n",
      "448/448 [==============================] - 107s 238ms/step - loss: 1.2739 - accuracy: 0.5226 - val_loss: 1.2333 - val_accuracy: 0.5282\n",
      "Epoch 14/50\n",
      "448/448 [==============================] - 106s 236ms/step - loss: 1.2579 - accuracy: 0.5256 - val_loss: 1.2171 - val_accuracy: 0.5430\n",
      "Epoch 15/50\n",
      "448/448 [==============================] - 106s 237ms/step - loss: 1.2420 - accuracy: 0.5330 - val_loss: 1.2001 - val_accuracy: 0.5458\n",
      "Epoch 16/50\n",
      "448/448 [==============================] - 105s 235ms/step - loss: 1.2153 - accuracy: 0.5408 - val_loss: 1.1981 - val_accuracy: 0.5453\n",
      "Epoch 17/50\n",
      "448/448 [==============================] - 104s 232ms/step - loss: 1.2037 - accuracy: 0.5471 - val_loss: 1.1738 - val_accuracy: 0.5513\n",
      "Epoch 18/50\n",
      "448/448 [==============================] - 104s 232ms/step - loss: 1.1930 - accuracy: 0.5519 - val_loss: 1.1775 - val_accuracy: 0.5499\n",
      "Epoch 19/50\n",
      "448/448 [==============================] - 104s 232ms/step - loss: 1.1730 - accuracy: 0.5603 - val_loss: 1.1567 - val_accuracy: 0.5582\n",
      "Epoch 20/50\n",
      "448/448 [==============================] - 104s 232ms/step - loss: 1.1612 - accuracy: 0.5633 - val_loss: 1.1486 - val_accuracy: 0.5650\n",
      "Epoch 21/50\n",
      "448/448 [==============================] - 104s 232ms/step - loss: 1.1446 - accuracy: 0.5681 - val_loss: 1.1361 - val_accuracy: 0.5693\n",
      "Epoch 22/50\n",
      "448/448 [==============================] - 104s 232ms/step - loss: 1.1332 - accuracy: 0.5765 - val_loss: 1.1266 - val_accuracy: 0.5723\n",
      "Epoch 23/50\n",
      "448/448 [==============================] - 227s 508ms/step - loss: 1.1240 - accuracy: 0.5751 - val_loss: 1.1216 - val_accuracy: 0.5791\n",
      "Epoch 24/50\n",
      "448/448 [==============================] - 104s 231ms/step - loss: 1.1126 - accuracy: 0.5821 - val_loss: 1.1195 - val_accuracy: 0.5745\n",
      "Epoch 25/50\n",
      "448/448 [==============================] - 107s 238ms/step - loss: 1.0951 - accuracy: 0.5896 - val_loss: 1.1142 - val_accuracy: 0.5771\n",
      "Epoch 26/50\n",
      "448/448 [==============================] - 103s 229ms/step - loss: 1.0869 - accuracy: 0.5911 - val_loss: 1.1109 - val_accuracy: 0.5783\n",
      "Epoch 27/50\n",
      "448/448 [==============================] - 106s 236ms/step - loss: 1.0764 - accuracy: 0.5970 - val_loss: 1.1012 - val_accuracy: 0.5857\n",
      "Epoch 28/50\n",
      "448/448 [==============================] - 106s 237ms/step - loss: 1.0597 - accuracy: 0.6022 - val_loss: 1.0989 - val_accuracy: 0.5851\n",
      "Epoch 29/50\n",
      "448/448 [==============================] - 106s 237ms/step - loss: 1.0532 - accuracy: 0.6039 - val_loss: 1.0974 - val_accuracy: 0.5872\n",
      "Epoch 30/50\n",
      "448/448 [==============================] - 106s 237ms/step - loss: 1.0455 - accuracy: 0.6053 - val_loss: 1.0881 - val_accuracy: 0.5919\n",
      "Epoch 31/50\n",
      "448/448 [==============================] - 106s 236ms/step - loss: 1.0346 - accuracy: 0.6108 - val_loss: 1.0881 - val_accuracy: 0.5944\n",
      "Epoch 32/50\n",
      "448/448 [==============================] - 294s 657ms/step - loss: 1.0274 - accuracy: 0.6157 - val_loss: 1.0789 - val_accuracy: 0.5928\n",
      "Epoch 33/50\n",
      "448/448 [==============================] - 106s 236ms/step - loss: 1.0134 - accuracy: 0.6212 - val_loss: 1.0814 - val_accuracy: 0.5910\n",
      "Epoch 34/50\n",
      "448/448 [==============================] - 106s 236ms/step - loss: 1.0040 - accuracy: 0.6241 - val_loss: 1.0755 - val_accuracy: 0.5932\n",
      "Epoch 35/50\n",
      "448/448 [==============================] - 105s 235ms/step - loss: 0.9938 - accuracy: 0.6279 - val_loss: 1.0843 - val_accuracy: 0.5956\n",
      "Epoch 36/50\n",
      "448/448 [==============================] - 107s 238ms/step - loss: 0.9898 - accuracy: 0.6296 - val_loss: 1.0699 - val_accuracy: 0.5979\n",
      "Epoch 37/50\n",
      "448/448 [==============================] - 105s 235ms/step - loss: 0.9744 - accuracy: 0.6387 - val_loss: 1.0708 - val_accuracy: 0.5981\n",
      "Epoch 38/50\n",
      "448/448 [==============================] - 106s 235ms/step - loss: 0.9667 - accuracy: 0.6397 - val_loss: 1.0632 - val_accuracy: 0.6009\n",
      "Epoch 39/50\n",
      "448/448 [==============================] - 105s 235ms/step - loss: 0.9596 - accuracy: 0.6422 - val_loss: 1.0815 - val_accuracy: 0.5960\n",
      "Epoch 40/50\n",
      "448/448 [==============================] - 105s 235ms/step - loss: 0.9503 - accuracy: 0.6479 - val_loss: 1.0709 - val_accuracy: 0.5974\n",
      "Epoch 41/50\n",
      "448/448 [==============================] - 106s 237ms/step - loss: 0.9430 - accuracy: 0.6479 - val_loss: 1.0578 - val_accuracy: 0.6034\n",
      "Epoch 42/50\n",
      "448/448 [==============================] - 106s 237ms/step - loss: 0.9283 - accuracy: 0.6513 - val_loss: 1.0574 - val_accuracy: 0.6045\n",
      "Epoch 43/50\n",
      "448/448 [==============================] - 108s 240ms/step - loss: 0.9233 - accuracy: 0.6547 - val_loss: 1.0558 - val_accuracy: 0.6049\n",
      "Epoch 44/50\n",
      "448/448 [==============================] - 106s 237ms/step - loss: 0.9176 - accuracy: 0.6592 - val_loss: 1.0610 - val_accuracy: 0.6031\n",
      "Epoch 45/50\n",
      "448/448 [==============================] - 106s 237ms/step - loss: 0.9019 - accuracy: 0.6636 - val_loss: 1.0557 - val_accuracy: 0.6077\n",
      "Epoch 46/50\n",
      "448/448 [==============================] - 106s 236ms/step - loss: 0.8985 - accuracy: 0.6667 - val_loss: 1.0494 - val_accuracy: 0.6046\n",
      "Epoch 47/50\n",
      "448/448 [==============================] - 107s 238ms/step - loss: 0.8851 - accuracy: 0.6664 - val_loss: 1.0557 - val_accuracy: 0.6055\n",
      "Epoch 48/50\n",
      "448/448 [==============================] - 107s 238ms/step - loss: 0.8783 - accuracy: 0.6717 - val_loss: 1.0570 - val_accuracy: 0.6078\n",
      "Epoch 49/50\n",
      "448/448 [==============================] - 107s 240ms/step - loss: 0.8716 - accuracy: 0.6719 - val_loss: 1.0593 - val_accuracy: 0.6055\n",
      "Epoch 50/50\n",
      "448/448 [==============================] - 103s 230ms/step - loss: 0.8669 - accuracy: 0.6772 - val_loss: 1.0609 - val_accuracy: 0.6091\n"
     ]
    }
   ],
   "source": [
    "##Found 28709 images belonging to 7 classes.   train\n",
    "##Found 7178 images belonging to 7 classes.    test\n",
    "\n",
    "history = model.fit_generator(train_generator,\n",
    "                              steps_per_epoch =28709//64  ,\n",
    "                              epochs = 50,\n",
    "                              validation_data = test_generator,\n",
    "                              validation_steps =7178//64)\n",
    "#since 64 is batch size so for no. of steps divide num of images by 64 for both train and test data"
   ]
  },
  {
   "cell_type": "code",
   "execution_count": 13,
   "metadata": {
    "id": "m-mGA2C4gfmw"
   },
   "outputs": [
    {
     "data": {
      "image/png": "[encoded data removed]",
      "text/plain": [
       "<Figure size 640x480 with 1 Axes>"
      ]
     },
     "metadata": {},
     "output_type": "display_data"
    }
   ],
   "source": [
    "plt.plot(history.history['accuracy'], color = 'blue', label = 'train' )\n",
    "plt.plot(history.history['val_accuracy'], color = 'red', label = 'test' )\n",
    "\n",
    "plt.legend()\n",
    "plt.show()\n"
   ]
  },
  {
   "cell_type": "code",
   "execution_count": 14,
   "metadata": {
    "id": "m-mGA2C4gfmw"
   },
   "outputs": [
    {
     "data": {
      "image/png": "[encoded data removed]",
      "text/plain": [
       "<Figure size 640x480 with 1 Axes>"
      ]
     },
     "metadata": {},
     "output_type": "display_data"
    }
   ],
   "source": [
    "plt.plot(history.history['loss'], color = 'blue', label = 'train' )\n",
    "plt.plot(history.history['val_loss'], color = 'red', label = 'test' )\n",
    "\n",
    "plt.legend()\n",
    "plt.show()\n"
   ]
  },
  {
   "cell_type": "code",
   "execution_count": 15,
   "metadata": {
    "id": "m-mGA2C4gfmw"
   },
   "outputs": [],
   "source": [
    "model_json = model.to_json()\n",
    "with open(\"model.json\", \"w\") as json_file:\n",
    "  json_file.write(model_json)"
   ]
  },
  {
   "cell_type": "markdown",
   "metadata": {
    "id": "rGZI-084gcDX"
   },
   "source": [
    "Save trained model in .h5 file"
   ]
  },
  {
   "cell_type": "code",
   "execution_count": 16,
   "metadata": {
    "id": "RhHGHLkmchyc"
   },
   "outputs": [],
   "source": [
    "model.save_weights('model.h5')"
   ]
  },
  {
   "cell_type": "code",
   "execution_count": null,
   "metadata": {},
   "outputs": [],
   "source": []
  }
 ],
 "metadata": {
  "accelerator": "TPU",
  "colab": {
   "provenance": []
  },
  "kernelspec": {
   "display_name": "Python 3 (ipykernel)",
   "language": "python",
   "name": "python3"
  },
  "language_info": {
   "codemirror_mode": {
    "name": "ipython",
    "version": 3
   },
   "file_extension": ".py",
   "mimetype": "text/x-python",
   "name": "python",
   "nbconvert_exporter": "python",
   "pygments_lexer": "ipython3",
   "version": "3.11.4"
  }
 },
 "nbformat": 4,
 "nbformat_minor": 4
}
